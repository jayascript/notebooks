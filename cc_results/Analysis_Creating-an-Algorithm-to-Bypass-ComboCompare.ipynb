{
 "cells": [
  {
   "cell_type": "markdown",
   "metadata": {},
   "source": [
    "# Analysis: Creating an Algorithm to Bypass ComboCompare Automation\n",
    "\n",
    "In this notebook, I present a comprehensive analysis of my attempt to create a machine learning algorithm that will bypass certain parts of the ComboCompare automation."
   ]
  },
  {
   "cell_type": "markdown",
   "metadata": {},
   "source": [
    "## Section 1: Project Background\n",
    "\n",
    "### 1.1: Description\n",
    "\n",
    "> LTC Tree is a nation-wide network of agents who work with all the major Traditional and Hybrid Long Term Care Insurance companies.  We help our clients shop the entire market to find the best company at the best price.  Therefore, our **efficient virtual process** is 180 degrees from what you would expect from a local agent. With LTC Tree, we will FedEx you all of the top company’s information direct to you. Your information will include side-by-side cost comparisons of the top ten companies.  Most importantly, you can then review it comfortably at your home on your own time. (Source: [Company Website](https://www.ltctree.com/))\n",
    "\n",
    "**Goal:** To consider whether the use of a machine learning algorithm will make a substantial contribution to the goal of providing customers with an **efficient virtual process**.\n",
    "\n",
    "### 1.2: Deterrents\n",
    "\n",
    "**Data collection:** This project would require a preprocessed dataset that's suitable for analysis and model training. At the present, it's not clear what all data is needed and where it's located, though this should be possible to determine with a bit of collaborative discussion.\n",
    "\n",
    "**Big data:** For this report, I've trained a model on a very small subset of the full dataset (just over 2%). This could lead to wildly varying assessments over the viability of this project. In general, the more data that's available, the more flexibility we'll have with training a model. Unfortunately, big data introduces many other concerns, such as data storage, memory allocation, and performance optimization.\n",
    "\n",
    "**Categorical data:** During my preliminary analysis of the dataset, I noticed that most of the observations contained data that would fit into one or more categories. Machine learning algorithms are notorious for preferring numerical values, so much time would need to be spent on encoding these variables properly. Doing so could lead to the [curse of dimensionality], or overfitting on the training set. Ironically, this issue might be mitigated by the previous concern (the use of big data).\n",
    "\n",
    "**Dependencies:** The current algorithm was developed from a database that is dependent on the use of ComboCompare. From my understanding, that desktop application is under active development and is frequently updated. Any model trained on data from that application will need to be retrained and maintained to ensure it stays in lock step with results that could be gleaned from ComboCompare. This means that, while a bypass of the desktop application may be possible when running quotes, it will still need to be referenced every so often to ensure the model remains accurate and applicable to the process at hand.\n",
    "\n",
    "To summarize, a project of this scale could be quite the undertaking, but it's not impossible. The next best step would be to talk through these hurdles and decide if this project would be beneficial to the desired goal."
   ]
  },
  {
   "cell_type": "markdown",
   "metadata": {},
   "source": [
    "## Section 2: Data\n",
    "\n",
    "*Manipulation and analysis.*"
   ]
  },
  {
   "cell_type": "markdown",
   "metadata": {},
   "source": [
    "### 2.1: Collection\n",
    "\n",
    "The data was retrieved from a PostgreSQL database containing ComboCompare results. The first dataset used in this analysis was from the test table `combo_compare_results` in `public_test`. This dataset contained only around 200 observations. The second dataset was pulled from the official `combo_compare_results` table under `public`, where I simply took the first one thousand rows shown in the SQL database. However, this section of the dataset was biased towards certain responses and was not a representative sample of the full dataset. \n",
    "\n",
    "To mitigate this, I took a third sample of the dataset by selecting the first and last twelve thousand rows and concatenating them into one dataset. Again, the observations are heavily skewed towards certain attribute values, but there is a bit more variation in the data. Ideally, the full dataset itself would be used to build a model."
   ]
  },
  {
   "cell_type": "markdown",
   "metadata": {},
   "source": [
    "To start, we'll import the required libraries:"
   ]
  },
  {
   "cell_type": "code",
   "execution_count": 1,
   "metadata": {},
   "outputs": [],
   "source": [
    "import pandas as pd  \n",
    "import numpy as np  \n",
    "import matplotlib.pyplot as plt  \n",
    "import seaborn as sns\n",
    "import statsmodels.api as sm\n",
    "import warnings\n",
    "\n",
    "from sklearn.model_selection import train_test_split \n",
    "from sklearn.linear_model import LinearRegression\n",
    "from sklearn import metrics\n",
    "\n",
    "%matplotlib inline\n",
    "\n",
    "warnings.simplefilter(action='ignore', category=FutureWarning)\n",
    "\n",
    "training_data1 = pd.read_csv(\"cc_test_12k_start.csv\")\n",
    "training_data2 = pd.read_csv(\"cc_test_12k_lincoln.csv\")\n",
    "test_data1 = pd.read_csv(\"cc_test.csv\")\n",
    "test_data2 = pd.read_csv(\"cc_test_1k.csv\")"
   ]
  },
  {
   "cell_type": "markdown",
   "metadata": {},
   "source": [
    "Next, we'll create the training dataset, which is a concatenation of the first and last twelve thousand rows from `combo_compare_results`:"
   ]
  },
  {
   "cell_type": "code",
   "execution_count": 2,
   "metadata": {},
   "outputs": [
    {
     "data": {
      "text/html": [
       "<div>\n",
       "<style scoped>\n",
       "    .dataframe tbody tr th:only-of-type {\n",
       "        vertical-align: middle;\n",
       "    }\n",
       "\n",
       "    .dataframe tbody tr th {\n",
       "        vertical-align: top;\n",
       "    }\n",
       "\n",
       "    .dataframe thead th {\n",
       "        text-align: right;\n",
       "    }\n",
       "</style>\n",
       "<table border=\"1\" class=\"dataframe\">\n",
       "  <thead>\n",
       "    <tr style=\"text-align: right;\">\n",
       "      <th></th>\n",
       "      <th>id</th>\n",
       "      <th>fkey_reference_id</th>\n",
       "      <th>company</th>\n",
       "      <th>state</th>\n",
       "      <th>gender</th>\n",
       "      <th>age</th>\n",
       "      <th>marital</th>\n",
       "      <th>premium</th>\n",
       "      <th>benefit</th>\n",
       "      <th>inflation</th>\n",
       "      <th>schedule</th>\n",
       "      <th>total_ltc</th>\n",
       "      <th>face_amount</th>\n",
       "      <th>monthly_ltc</th>\n",
       "      <th>total_ltc_80</th>\n",
       "      <th>monthly_ltc_80</th>\n",
       "      <th>timestamp</th>\n",
       "      <th>monthly_ltc_85</th>\n",
       "      <th>total_ltc_85</th>\n",
       "    </tr>\n",
       "  </thead>\n",
       "  <tbody>\n",
       "    <tr>\n",
       "      <th>0</th>\n",
       "      <td>1769744</td>\n",
       "      <td>3215</td>\n",
       "      <td>Securian Financial SecureCare UL</td>\n",
       "      <td>SD</td>\n",
       "      <td>Female</td>\n",
       "      <td>47</td>\n",
       "      <td>Married</td>\n",
       "      <td>140000</td>\n",
       "      <td>6 Years</td>\n",
       "      <td>3% Compound</td>\n",
       "      <td>Single Pay</td>\n",
       "      <td>618357</td>\n",
       "      <td>191193</td>\n",
       "      <td>7966</td>\n",
       "      <td>1640091</td>\n",
       "      <td>21129</td>\n",
       "      <td>1/10/2020 6:50:00 AM</td>\n",
       "      <td>24495</td>\n",
       "      <td>1901357</td>\n",
       "    </tr>\n",
       "    <tr>\n",
       "      <th>1</th>\n",
       "      <td>1769745</td>\n",
       "      <td>3215</td>\n",
       "      <td>Securian Financial SecureCare UL</td>\n",
       "      <td>SD</td>\n",
       "      <td>Female</td>\n",
       "      <td>48</td>\n",
       "      <td>Married</td>\n",
       "      <td>140000</td>\n",
       "      <td>6 Years</td>\n",
       "      <td>3% Compound</td>\n",
       "      <td>Single Pay</td>\n",
       "      <td>627106</td>\n",
       "      <td>193898</td>\n",
       "      <td>8079</td>\n",
       "      <td>1614850</td>\n",
       "      <td>20804</td>\n",
       "      <td>1/10/2020 6:50:14 AM</td>\n",
       "      <td>24118</td>\n",
       "      <td>1872096</td>\n",
       "    </tr>\n",
       "    <tr>\n",
       "      <th>2</th>\n",
       "      <td>1769746</td>\n",
       "      <td>3215</td>\n",
       "      <td>Securian Financial SecureCare UL</td>\n",
       "      <td>SD</td>\n",
       "      <td>Female</td>\n",
       "      <td>55</td>\n",
       "      <td>Married</td>\n",
       "      <td>140000</td>\n",
       "      <td>6 Years</td>\n",
       "      <td>3% Compound</td>\n",
       "      <td>Single Pay</td>\n",
       "      <td>586555</td>\n",
       "      <td>181360</td>\n",
       "      <td>7557</td>\n",
       "      <td>1228117</td>\n",
       "      <td>15822</td>\n",
       "      <td>1/10/2020 6:51:51 AM</td>\n",
       "      <td>18342</td>\n",
       "      <td>1423756</td>\n",
       "    </tr>\n",
       "    <tr>\n",
       "      <th>3</th>\n",
       "      <td>1769747</td>\n",
       "      <td>3215</td>\n",
       "      <td>Securian Financial SecureCare UL</td>\n",
       "      <td>SD</td>\n",
       "      <td>Female</td>\n",
       "      <td>56</td>\n",
       "      <td>Married</td>\n",
       "      <td>140000</td>\n",
       "      <td>6 Years</td>\n",
       "      <td>3% Compound</td>\n",
       "      <td>Single Pay</td>\n",
       "      <td>574476</td>\n",
       "      <td>177625</td>\n",
       "      <td>7401</td>\n",
       "      <td>1167791</td>\n",
       "      <td>15045</td>\n",
       "      <td>1/10/2020 6:52:05 AM</td>\n",
       "      <td>17442</td>\n",
       "      <td>1353820</td>\n",
       "    </tr>\n",
       "    <tr>\n",
       "      <th>4</th>\n",
       "      <td>1769748</td>\n",
       "      <td>3215</td>\n",
       "      <td>Securian Financial SecureCare UL</td>\n",
       "      <td>SD</td>\n",
       "      <td>Female</td>\n",
       "      <td>57</td>\n",
       "      <td>Married</td>\n",
       "      <td>140000</td>\n",
       "      <td>6 Years</td>\n",
       "      <td>3% Compound</td>\n",
       "      <td>Single Pay</td>\n",
       "      <td>562396</td>\n",
       "      <td>173890</td>\n",
       "      <td>7245</td>\n",
       "      <td>1109937</td>\n",
       "      <td>14299</td>\n",
       "      <td>1/10/2020 6:52:18 AM</td>\n",
       "      <td>16577</td>\n",
       "      <td>1286750</td>\n",
       "    </tr>\n",
       "  </tbody>\n",
       "</table>\n",
       "</div>"
      ],
      "text/plain": [
       "        id  fkey_reference_id                           company state  gender  \\\n",
       "0  1769744               3215  Securian Financial SecureCare UL    SD  Female   \n",
       "1  1769745               3215  Securian Financial SecureCare UL    SD  Female   \n",
       "2  1769746               3215  Securian Financial SecureCare UL    SD  Female   \n",
       "3  1769747               3215  Securian Financial SecureCare UL    SD  Female   \n",
       "4  1769748               3215  Securian Financial SecureCare UL    SD  Female   \n",
       "\n",
       "   age  marital  premium  benefit    inflation    schedule  total_ltc  \\\n",
       "0   47  Married   140000  6 Years  3% Compound  Single Pay     618357   \n",
       "1   48  Married   140000  6 Years  3% Compound  Single Pay     627106   \n",
       "2   55  Married   140000  6 Years  3% Compound  Single Pay     586555   \n",
       "3   56  Married   140000  6 Years  3% Compound  Single Pay     574476   \n",
       "4   57  Married   140000  6 Years  3% Compound  Single Pay     562396   \n",
       "\n",
       "   face_amount  monthly_ltc  total_ltc_80  monthly_ltc_80  \\\n",
       "0       191193         7966       1640091           21129   \n",
       "1       193898         8079       1614850           20804   \n",
       "2       181360         7557       1228117           15822   \n",
       "3       177625         7401       1167791           15045   \n",
       "4       173890         7245       1109937           14299   \n",
       "\n",
       "              timestamp  monthly_ltc_85  total_ltc_85  \n",
       "0  1/10/2020 6:50:00 AM           24495       1901357  \n",
       "1  1/10/2020 6:50:14 AM           24118       1872096  \n",
       "2  1/10/2020 6:51:51 AM           18342       1423756  \n",
       "3  1/10/2020 6:52:05 AM           17442       1353820  \n",
       "4  1/10/2020 6:52:18 AM           16577       1286750  "
      ]
     },
     "execution_count": 2,
     "metadata": {},
     "output_type": "execute_result"
    }
   ],
   "source": [
    "df = training_data1.append(training_data2)\n",
    "df.head()"
   ]
  },
  {
   "cell_type": "markdown",
   "metadata": {},
   "source": [
    "### Step 2.2: Distill.\n",
    "\n",
    "Before moving on to exploratory data analysis, I need to make sure that the dataset is tidy and only contains the necessary relevant information."
   ]
  },
  {
   "cell_type": "code",
   "execution_count": 3,
   "metadata": {},
   "outputs": [
    {
     "data": {
      "text/plain": [
       "(24000, 19)"
      ]
     },
     "execution_count": 3,
     "metadata": {},
     "output_type": "execute_result"
    }
   ],
   "source": [
    "df.shape"
   ]
  },
  {
   "cell_type": "code",
   "execution_count": 4,
   "metadata": {},
   "outputs": [
    {
     "data": {
      "text/plain": [
       "Index(['id', 'fkey_reference_id', 'company', 'state', 'gender', 'age',\n",
       "       'marital', 'premium', 'benefit', 'inflation', 'schedule', 'total_ltc',\n",
       "       'face_amount', 'monthly_ltc', 'total_ltc_80', 'monthly_ltc_80',\n",
       "       'timestamp', 'monthly_ltc_85', 'total_ltc_85'],\n",
       "      dtype='object')"
      ]
     },
     "execution_count": 4,
     "metadata": {},
     "output_type": "execute_result"
    }
   ],
   "source": [
    "df.columns"
   ]
  },
  {
   "cell_type": "markdown",
   "metadata": {},
   "source": [
    "We've confirmed that there are twenty-four thousand rows, and there are 19 features. From my understanding, each row represents a hypothetical individual insurance quote. Two of the columns identify these individuals. Of the remaining 17, there are features, multiple responses, and timestamps for when the data was collected.\n",
    "\n",
    "We don't want the columns that are going to identify observations, because our dataset already has an index. These should be dropped from the dataset.\n",
    "\n",
    "> **Note:** There's a chance that `fkey_reference_id` points to necessary data that exists in another table. If this is the case, then the goal should be to combine all related data into one table and continue to drop references to other datasets.\n",
    "\n",
    "Let's continue to examine the dataset:"
   ]
  },
  {
   "cell_type": "code",
   "execution_count": 5,
   "metadata": {},
   "outputs": [
    {
     "name": "stdout",
     "output_type": "stream",
     "text": [
      "<class 'pandas.core.frame.DataFrame'>\n",
      "Int64Index: 24000 entries, 0 to 11999\n",
      "Data columns (total 19 columns):\n",
      "id                   24000 non-null int64\n",
      "fkey_reference_id    24000 non-null int64\n",
      "company              24000 non-null object\n",
      "state                24000 non-null object\n",
      "gender               24000 non-null object\n",
      "age                  24000 non-null int64\n",
      "marital              24000 non-null object\n",
      "premium              24000 non-null int64\n",
      "benefit              24000 non-null object\n",
      "inflation            24000 non-null object\n",
      "schedule             24000 non-null object\n",
      "total_ltc            24000 non-null int64\n",
      "face_amount          24000 non-null int64\n",
      "monthly_ltc          24000 non-null int64\n",
      "total_ltc_80         24000 non-null int64\n",
      "monthly_ltc_80       24000 non-null int64\n",
      "timestamp            24000 non-null object\n",
      "monthly_ltc_85       24000 non-null int64\n",
      "total_ltc_85         24000 non-null int64\n",
      "dtypes: int64(11), object(8)\n",
      "memory usage: 3.7+ MB\n"
     ]
    }
   ],
   "source": [
    "df.info()"
   ]
  },
  {
   "cell_type": "markdown",
   "metadata": {},
   "source": [
    "I'm pleased to see that there are no missing values in this dataset. Features are typed as either `object` or `int64`. We can save on memory if we cast the `object` columns to a different type.\n",
    "\n",
    "Speaking of type, let's examine the numerical features."
   ]
  },
  {
   "cell_type": "code",
   "execution_count": 6,
   "metadata": {},
   "outputs": [
    {
     "data": {
      "text/html": [
       "<div>\n",
       "<style scoped>\n",
       "    .dataframe tbody tr th:only-of-type {\n",
       "        vertical-align: middle;\n",
       "    }\n",
       "\n",
       "    .dataframe tbody tr th {\n",
       "        vertical-align: top;\n",
       "    }\n",
       "\n",
       "    .dataframe thead th {\n",
       "        text-align: right;\n",
       "    }\n",
       "</style>\n",
       "<table border=\"1\" class=\"dataframe\">\n",
       "  <thead>\n",
       "    <tr style=\"text-align: right;\">\n",
       "      <th></th>\n",
       "      <th>id</th>\n",
       "      <th>fkey_reference_id</th>\n",
       "      <th>age</th>\n",
       "      <th>premium</th>\n",
       "      <th>total_ltc</th>\n",
       "      <th>face_amount</th>\n",
       "      <th>monthly_ltc</th>\n",
       "      <th>total_ltc_80</th>\n",
       "      <th>monthly_ltc_80</th>\n",
       "      <th>monthly_ltc_85</th>\n",
       "      <th>total_ltc_85</th>\n",
       "    </tr>\n",
       "  </thead>\n",
       "  <tbody>\n",
       "    <tr>\n",
       "      <th>count</th>\n",
       "      <td>2.400000e+04</td>\n",
       "      <td>24000.000000</td>\n",
       "      <td>24000.000000</td>\n",
       "      <td>24000.000000</td>\n",
       "      <td>2.400000e+04</td>\n",
       "      <td>24000.000000</td>\n",
       "      <td>24000.000000</td>\n",
       "      <td>2.400000e+04</td>\n",
       "      <td>24000.000000</td>\n",
       "      <td>24000.000000</td>\n",
       "      <td>2.400000e+04</td>\n",
       "    </tr>\n",
       "    <tr>\n",
       "      <th>mean</th>\n",
       "      <td>1.944691e+06</td>\n",
       "      <td>2327.007833</td>\n",
       "      <td>55.475833</td>\n",
       "      <td>89602.916667</td>\n",
       "      <td>3.353945e+05</td>\n",
       "      <td>111912.792625</td>\n",
       "      <td>4487.616542</td>\n",
       "      <td>5.983376e+05</td>\n",
       "      <td>8004.282708</td>\n",
       "      <td>8934.595375</td>\n",
       "      <td>6.763643e+05</td>\n",
       "    </tr>\n",
       "    <tr>\n",
       "      <th>std</th>\n",
       "      <td>3.040723e+05</td>\n",
       "      <td>705.493072</td>\n",
       "      <td>9.546804</td>\n",
       "      <td>27464.120589</td>\n",
       "      <td>1.681379e+05</td>\n",
       "      <td>55490.452586</td>\n",
       "      <td>2358.464736</td>\n",
       "      <td>3.248423e+05</td>\n",
       "      <td>4324.925000</td>\n",
       "      <td>4934.274704</td>\n",
       "      <td>3.794742e+05</td>\n",
       "    </tr>\n",
       "    <tr>\n",
       "      <th>min</th>\n",
       "      <td>1.429243e+06</td>\n",
       "      <td>1701.000000</td>\n",
       "      <td>40.000000</td>\n",
       "      <td>50000.000000</td>\n",
       "      <td>1.375270e+05</td>\n",
       "      <td>50006.000000</td>\n",
       "      <td>1923.000000</td>\n",
       "      <td>1.515060e+05</td>\n",
       "      <td>2104.000000</td>\n",
       "      <td>2104.000000</td>\n",
       "      <td>1.515060e+05</td>\n",
       "    </tr>\n",
       "    <tr>\n",
       "      <th>25%</th>\n",
       "      <td>1.785510e+06</td>\n",
       "      <td>1723.000000</td>\n",
       "      <td>47.000000</td>\n",
       "      <td>70000.000000</td>\n",
       "      <td>2.195300e+05</td>\n",
       "      <td>73541.750000</td>\n",
       "      <td>2879.000000</td>\n",
       "      <td>3.528670e+05</td>\n",
       "      <td>4734.000000</td>\n",
       "      <td>5226.000000</td>\n",
       "      <td>3.922280e+05</td>\n",
       "    </tr>\n",
       "    <tr>\n",
       "      <th>50%</th>\n",
       "      <td>2.012441e+06</td>\n",
       "      <td>1868.500000</td>\n",
       "      <td>55.000000</td>\n",
       "      <td>90000.000000</td>\n",
       "      <td>2.903400e+05</td>\n",
       "      <td>97622.000000</td>\n",
       "      <td>3821.000000</td>\n",
       "      <td>5.167030e+05</td>\n",
       "      <td>6937.000000</td>\n",
       "      <td>7678.000000</td>\n",
       "      <td>5.779680e+05</td>\n",
       "    </tr>\n",
       "    <tr>\n",
       "      <th>75%</th>\n",
       "      <td>2.223679e+06</td>\n",
       "      <td>3133.000000</td>\n",
       "      <td>63.000000</td>\n",
       "      <td>100000.000000</td>\n",
       "      <td>3.972430e+05</td>\n",
       "      <td>132284.000000</td>\n",
       "      <td>5290.000000</td>\n",
       "      <td>7.640405e+05</td>\n",
       "      <td>10238.500000</td>\n",
       "      <td>11402.000000</td>\n",
       "      <td>8.623310e+05</td>\n",
       "    </tr>\n",
       "    <tr>\n",
       "      <th>max</th>\n",
       "      <td>2.229679e+06</td>\n",
       "      <td>3572.000000</td>\n",
       "      <td>75.000000</td>\n",
       "      <td>150000.000000</td>\n",
       "      <td>1.405964e+06</td>\n",
       "      <td>468655.000000</td>\n",
       "      <td>19527.000000</td>\n",
       "      <td>2.801231e+06</td>\n",
       "      <td>36089.000000</td>\n",
       "      <td>41838.000000</td>\n",
       "      <td>3.247467e+06</td>\n",
       "    </tr>\n",
       "  </tbody>\n",
       "</table>\n",
       "</div>"
      ],
      "text/plain": [
       "                 id  fkey_reference_id           age        premium  \\\n",
       "count  2.400000e+04       24000.000000  24000.000000   24000.000000   \n",
       "mean   1.944691e+06        2327.007833     55.475833   89602.916667   \n",
       "std    3.040723e+05         705.493072      9.546804   27464.120589   \n",
       "min    1.429243e+06        1701.000000     40.000000   50000.000000   \n",
       "25%    1.785510e+06        1723.000000     47.000000   70000.000000   \n",
       "50%    2.012441e+06        1868.500000     55.000000   90000.000000   \n",
       "75%    2.223679e+06        3133.000000     63.000000  100000.000000   \n",
       "max    2.229679e+06        3572.000000     75.000000  150000.000000   \n",
       "\n",
       "          total_ltc    face_amount   monthly_ltc  total_ltc_80  \\\n",
       "count  2.400000e+04   24000.000000  24000.000000  2.400000e+04   \n",
       "mean   3.353945e+05  111912.792625   4487.616542  5.983376e+05   \n",
       "std    1.681379e+05   55490.452586   2358.464736  3.248423e+05   \n",
       "min    1.375270e+05   50006.000000   1923.000000  1.515060e+05   \n",
       "25%    2.195300e+05   73541.750000   2879.000000  3.528670e+05   \n",
       "50%    2.903400e+05   97622.000000   3821.000000  5.167030e+05   \n",
       "75%    3.972430e+05  132284.000000   5290.000000  7.640405e+05   \n",
       "max    1.405964e+06  468655.000000  19527.000000  2.801231e+06   \n",
       "\n",
       "       monthly_ltc_80  monthly_ltc_85  total_ltc_85  \n",
       "count    24000.000000    24000.000000  2.400000e+04  \n",
       "mean      8004.282708     8934.595375  6.763643e+05  \n",
       "std       4324.925000     4934.274704  3.794742e+05  \n",
       "min       2104.000000     2104.000000  1.515060e+05  \n",
       "25%       4734.000000     5226.000000  3.922280e+05  \n",
       "50%       6937.000000     7678.000000  5.779680e+05  \n",
       "75%      10238.500000    11402.000000  8.623310e+05  \n",
       "max      36089.000000    41838.000000  3.247467e+06  "
      ]
     },
     "execution_count": 6,
     "metadata": {},
     "output_type": "execute_result"
    }
   ],
   "source": [
    "df.describe()"
   ]
  },
  {
   "cell_type": "markdown",
   "metadata": {},
   "source": [
    "`age` and `premium` are described as numeric; however, through previous analysis I've determined that `premium` is actually a categorical variable that can only take on one of a few different types."
   ]
  },
  {
   "cell_type": "code",
   "execution_count": 7,
   "metadata": {},
   "outputs": [
    {
     "data": {
      "text/plain": [
       "array([140000, 150000,  70000,  90000, 100000,  80000, 120000,  60000,\n",
       "       110000,  50000, 130000])"
      ]
     },
     "execution_count": 7,
     "metadata": {},
     "output_type": "execute_result"
    }
   ],
   "source": [
    "df['premium'].unique()"
   ]
  },
  {
   "cell_type": "markdown",
   "metadata": {},
   "source": [
    "The only possibilities for `premium` are these discrete categories, so it's not numeric at all.\n",
    "\n",
    "Let's take a closer look at the other categorical variables."
   ]
  },
  {
   "cell_type": "code",
   "execution_count": 8,
   "metadata": {},
   "outputs": [
    {
     "name": "stdout",
     "output_type": "stream",
     "text": [
      "Column \"company\" has 4 entries: ['Securian Financial SecureCare UL' 'Nationwide CareMatters II'\n",
      " 'Pacific Life PremierCare Choice 2019' 'Lincoln MoneyGuard III']\n",
      "Column \"state\" has 12 entries: ['SD' 'NJ' 'TN' 'PA' 'TX' 'WY' 'WV' 'WI' 'WA' 'VT' 'VA' 'UT']\n",
      "Column \"gender\" has 2 entries: ['Female' 'Male']\n",
      "Column \"marital\" has 2 entries: ['Married' 'None']\n",
      "Column \"premium\" has 11 entries: [140000 150000  70000  90000 100000  80000 120000  60000 110000  50000\n",
      " 130000]\n",
      "Column \"benefit\" has 2 entries: ['6 Years' '5 Years']\n",
      "Column \"inflation\" has 3 entries: ['3% Compound' 'None' '5% Compound (actually 5% Simple)']\n",
      "Column \"schedule\" has 3 entries: ['Single Pay' '10 Years' '5 Years']\n",
      "Column \"age\" has 36 entries: [47 48 55 56 57 58 59 60 61 63 64 65 46 40 41 42 43 44 45 66 50 53 54 62\n",
      " 49 51 52 67 68 69 70 73 75 71 72 74]\n"
     ]
    }
   ],
   "source": [
    "categories = ['company', 'state', 'gender', 'marital', 'premium', 'benefit', 'inflation', 'schedule', 'age']\n",
    "for item in categories:\n",
    "    unique = df[item].unique()\n",
    "    print(f'Column \"{item}\" has {len(unique)} entries: {unique}')"
   ]
  },
  {
   "cell_type": "markdown",
   "metadata": {},
   "source": [
    "Now, this is where my biggest concern lies. I know for a fact from previous analysis that the categories shown here are **not** all of the ones that are available in the full dataset. Any model trained on this dataset would necessarily perform poorly on the full dataset, because the **imbalanced datasets** do not take all the possibilities into account. Issues like these may or may not be of concern depending on **how we choose to encode these variables**. One-hot encoding, for instance, would lead to high-dimensionality and the absence of coefficients for values that don't exist in the training set.\n",
    "\n",
    "There are a few solutions, some more easily done than others:\n",
    "\n",
    "- One solution is to **take a better sample of the full dataset**. This would require logging into the DB server and exporting the desired rows, which could lengthen the time it takes to perform the analysis.\n",
    "- Another is to **manually insert all known values**. This can be problematic, however, if a brand new value were to be added to one of these categories. Hard-coding is generally not the best solution.\n",
    "- Finally, we could try to **mitigate for unknown values** by anticipating their absence and adding in checks to include them should they occur and update the model. (For example, we would merge the training and test sets before any transformation is performed to ensure all applicable factor levels are considered.)\n",
    "\n",
    "Because I've seen some of the missing categories in the datasets that will be used to evaluate performance already, I'm choosing to **merge and combine** the columns for all datasets to ensure the proper categories are included."
   ]
  },
  {
   "cell_type": "code",
   "execution_count": 9,
   "metadata": {},
   "outputs": [
    {
     "name": "stdout",
     "output_type": "stream",
     "text": [
      "defaultdict(<class 'list'>, {'company': {'Lincoln MoneyGuard III', 'State Life Asset-Care 2019 Single Pay', 'Nationwide CareMatters II', 'Pacific Life PremierCare Choice 2019', 'Lincoln MoneyGuard II 2020', 'Securian Financial SecureCare UL'}, 'state': {'WI', 'SC', 'VT', 'IN', 'MN', 'MT', 'CA', 'AR', 'DE', 'MA', 'VA', 'NY', 'ND', 'KY', 'AL', 'ME', 'MD', 'MO', 'OR', 'MS', 'IA', 'LA', 'HI', 'UT', 'OK', 'WA', 'KS', 'AK', 'TX', 'NV', 'WY', 'AZ', 'NH', 'OH', 'RI', 'DC', 'CT', 'TN', 'FL', 'GA', 'NE', 'SD', 'IL', 'MI', 'NM', 'ID', 'NJ', 'NC', 'CO', 'PA', 'WV'}, 'gender': {'Male', 'Female'}, 'marital': {'Married', 'None'}, 'premium': {80000, '50000', 90000, '80000', '100000', 100000, 110000, 120000, '$140,000', '$130,000', 50000, 130000, '60000', 140000, 60000, '90000', 150000, 70000, '$50,000'}, 'benefit': {'6 Years', '5 Years'}, 'inflation': {'5% Simple', 'None', '3% Compound', '5% Compound (actually 5% Simple)'}, 'schedule': {'Single Pay', '10 Years', '5 Years'}, 'age': {40, 41, 42, 43, 44, 45, 46, 47, 48, 49, 50, 51, 52, 53, 54, 55, 56, 57, 58, 59, 60, 61, 62, 63, 64, 65, 66, 67, 68, 69, 70, 71, 72, 73, 74, 75}})\n"
     ]
    }
   ],
   "source": [
    "from collections import defaultdict\n",
    "unique_cols = defaultdict(list)\n",
    "\n",
    "for item in categories:\n",
    "    unique_cols[item] = set(df[item].unique().tolist() + \n",
    "                         test_data1[item].unique().tolist() + \n",
    "                         test_data2[item].unique().tolist())\n",
    "print(unique_cols)"
   ]
  },
  {
   "cell_type": "code",
   "execution_count": 10,
   "metadata": {},
   "outputs": [
    {
     "data": {
      "text/plain": [
       "36"
      ]
     },
     "execution_count": 10,
     "metadata": {},
     "output_type": "execute_result"
    }
   ],
   "source": [
    "len(df['age'].unique().tolist())"
   ]
  },
  {
   "cell_type": "markdown",
   "metadata": {},
   "source": [
    "Now we've got a better idea of what all the possible values are for these categories. We can also see that there's quite a bit of mislabelled data, especially in the `premium` and `inflation` columns, which have repetitive data with different labels. We'll need to be sure to clean these up."
   ]
  },
  {
   "cell_type": "markdown",
   "metadata": {},
   "source": [
    "For now, I've decided to perform the following preprocessing steps:\n",
    "\n",
    "- Drop duplicate observations\n",
    "- Drop the columns `id` and `fkey_reference_id`\n",
    "- Clean up the variations in `premium` and `inflation`\n",
    "\n",
    "These steps will be performed on all datasets for consistency. In addition, I'll be creating a copy of the training dataset with encoded values to assist with further exploration."
   ]
  },
  {
   "cell_type": "code",
   "execution_count": 11,
   "metadata": {},
   "outputs": [],
   "source": [
    "# Clean up training data\n",
    "df = df.drop_duplicates()\n",
    "df = df.drop(columns=['id', 'fkey_reference_id', 'timestamp'], errors='ignore')\n",
    "df.loc[df['premium']=='$50,000', 'premium'] = '50000'\n",
    "df.loc[df['premium']=='$130,000', 'premium'] = '130000'\n",
    "df.loc[df['premium']=='$140,000', 'premium'] = '140000'\n",
    "df.loc[df['inflation']=='5% Compound (actually 5% Simple)', 'inflation'] = '5% Simple'\n",
    "df = df.astype({'premium': 'int64'})"
   ]
  },
  {
   "cell_type": "code",
   "execution_count": 12,
   "metadata": {},
   "outputs": [],
   "source": [
    "# Repeat for test_data1\n",
    "test_data1 = test_data1.drop_duplicates()\n",
    "test_data1 = test_data1.drop(columns=['id', 'fkey_reference_id', 'timestamp'], errors='ignore')\n",
    "test_data1.loc[test_data1['premium']=='$50,000', 'premium'] = '50000'\n",
    "test_data1.loc[test_data1['premium']=='$130,000', 'premium'] = '130000'\n",
    "test_data1.loc[test_data1['premium']=='$140,000', 'premium'] = '140000'\n",
    "test_data1.loc[test_data1['inflation']=='5% Compound (actually 5% Simple)', 'inflation'] = '5% Simple'\n",
    "test_data1 = test_data1.astype({'premium': 'int64'})"
   ]
  },
  {
   "cell_type": "code",
   "execution_count": 13,
   "metadata": {},
   "outputs": [],
   "source": [
    "# Repeat for test_data2\n",
    "test_data2 = test_data2.drop_duplicates()\n",
    "test_data2 = test_data2.drop(columns=['id', 'fkey_reference_id', 'timestamp'], errors='ignore')\n",
    "test_data2.loc[test_data2['premium']=='$50,000', 'premium'] = '50000'\n",
    "test_data2.loc[test_data2['premium']=='$130,000', 'premium'] = '130000'\n",
    "test_data2.loc[test_data2['premium']=='$140,000', 'premium'] = '140000'\n",
    "test_data2.loc[test_data2['inflation']=='5% Compound (actually 5% Simple)', 'inflation'] = '5% Simple'\n",
    "test_data2 = test_data2.astype({'premium': 'int64'})"
   ]
  },
  {
   "cell_type": "code",
   "execution_count": 14,
   "metadata": {},
   "outputs": [
    {
     "name": "stdout",
     "output_type": "stream",
     "text": [
      "defaultdict(<class 'list'>, {'company': {'Lincoln MoneyGuard III', 'State Life Asset-Care 2019 Single Pay', 'Nationwide CareMatters II', 'Pacific Life PremierCare Choice 2019', 'Lincoln MoneyGuard II 2020', 'Securian Financial SecureCare UL'}, 'state': {'WI', 'SC', 'VT', 'IN', 'MN', 'MT', 'CA', 'AR', 'DE', 'MA', 'VA', 'NY', 'ND', 'KY', 'AL', 'ME', 'MD', 'MO', 'OR', 'MS', 'IA', 'LA', 'HI', 'UT', 'OK', 'WA', 'KS', 'AK', 'TX', 'NV', 'WY', 'AZ', 'NH', 'OH', 'RI', 'DC', 'CT', 'TN', 'FL', 'GA', 'NE', 'SD', 'IL', 'MI', 'NM', 'ID', 'NJ', 'NC', 'CO', 'PA', 'WV'}, 'gender': {'Male', 'Female'}, 'marital': {'Married', 'None'}, 'premium': {140000, 100000, 80000, 120000, 60000, 150000, 70000, 90000, 110000, 50000, 130000}, 'benefit': {'6 Years', '5 Years'}, 'inflation': {'5% Simple', 'None', '3% Compound'}, 'schedule': {'Single Pay', '10 Years', '5 Years'}, 'age': {40, 41, 42, 43, 44, 45, 46, 47, 48, 49, 50, 51, 52, 53, 54, 55, 56, 57, 58, 59, 60, 61, 62, 63, 64, 65, 66, 67, 68, 69, 70, 71, 72, 73, 74, 75}})\n"
     ]
    }
   ],
   "source": [
    "# Confirm that all variations have been cleaned up\n",
    "from collections import defaultdict\n",
    "unique_cols = defaultdict(list)\n",
    "\n",
    "for item in categories:\n",
    "    unique_cols[item] = set(df[item].unique().tolist() + \n",
    "                         test_data1[item].unique().tolist() + \n",
    "                         test_data2[item].unique().tolist())\n",
    "print(unique_cols)"
   ]
  },
  {
   "cell_type": "markdown",
   "metadata": {},
   "source": [
    "As a final preprocessing step, I'll be making a second encoded dataset to inform my exploratory analysis. This won't be used for modelling, as the encoding used here could lead to unfair weights for some features, depending on the machine learning algorithm chosen. It's simply to ensure that I have numeric data to work with for spotting correlations and other statistical observations."
   ]
  },
  {
   "cell_type": "code",
   "execution_count": 15,
   "metadata": {
    "scrolled": true
   },
   "outputs": [
    {
     "data": {
      "text/html": [
       "<div>\n",
       "<style scoped>\n",
       "    .dataframe tbody tr th:only-of-type {\n",
       "        vertical-align: middle;\n",
       "    }\n",
       "\n",
       "    .dataframe tbody tr th {\n",
       "        vertical-align: top;\n",
       "    }\n",
       "\n",
       "    .dataframe thead th {\n",
       "        text-align: right;\n",
       "    }\n",
       "</style>\n",
       "<table border=\"1\" class=\"dataframe\">\n",
       "  <thead>\n",
       "    <tr style=\"text-align: right;\">\n",
       "      <th></th>\n",
       "      <th>company</th>\n",
       "      <th>state</th>\n",
       "      <th>gender</th>\n",
       "      <th>age</th>\n",
       "      <th>marital</th>\n",
       "      <th>premium</th>\n",
       "      <th>benefit</th>\n",
       "      <th>inflation</th>\n",
       "      <th>schedule</th>\n",
       "      <th>total_ltc</th>\n",
       "      <th>face_amount</th>\n",
       "      <th>monthly_ltc</th>\n",
       "      <th>total_ltc_80</th>\n",
       "      <th>monthly_ltc_80</th>\n",
       "      <th>monthly_ltc_85</th>\n",
       "      <th>total_ltc_85</th>\n",
       "    </tr>\n",
       "  </thead>\n",
       "  <tbody>\n",
       "    <tr>\n",
       "      <th>0</th>\n",
       "      <td>3</td>\n",
       "      <td>2</td>\n",
       "      <td>0</td>\n",
       "      <td>47</td>\n",
       "      <td>0</td>\n",
       "      <td>9</td>\n",
       "      <td>1</td>\n",
       "      <td>0</td>\n",
       "      <td>2</td>\n",
       "      <td>618357</td>\n",
       "      <td>191193</td>\n",
       "      <td>7966</td>\n",
       "      <td>1640091</td>\n",
       "      <td>21129</td>\n",
       "      <td>24495</td>\n",
       "      <td>1901357</td>\n",
       "    </tr>\n",
       "    <tr>\n",
       "      <th>1</th>\n",
       "      <td>3</td>\n",
       "      <td>2</td>\n",
       "      <td>0</td>\n",
       "      <td>48</td>\n",
       "      <td>0</td>\n",
       "      <td>9</td>\n",
       "      <td>1</td>\n",
       "      <td>0</td>\n",
       "      <td>2</td>\n",
       "      <td>627106</td>\n",
       "      <td>193898</td>\n",
       "      <td>8079</td>\n",
       "      <td>1614850</td>\n",
       "      <td>20804</td>\n",
       "      <td>24118</td>\n",
       "      <td>1872096</td>\n",
       "    </tr>\n",
       "    <tr>\n",
       "      <th>2</th>\n",
       "      <td>3</td>\n",
       "      <td>2</td>\n",
       "      <td>0</td>\n",
       "      <td>55</td>\n",
       "      <td>0</td>\n",
       "      <td>9</td>\n",
       "      <td>1</td>\n",
       "      <td>0</td>\n",
       "      <td>2</td>\n",
       "      <td>586555</td>\n",
       "      <td>181360</td>\n",
       "      <td>7557</td>\n",
       "      <td>1228117</td>\n",
       "      <td>15822</td>\n",
       "      <td>18342</td>\n",
       "      <td>1423756</td>\n",
       "    </tr>\n",
       "    <tr>\n",
       "      <th>3</th>\n",
       "      <td>3</td>\n",
       "      <td>2</td>\n",
       "      <td>0</td>\n",
       "      <td>56</td>\n",
       "      <td>0</td>\n",
       "      <td>9</td>\n",
       "      <td>1</td>\n",
       "      <td>0</td>\n",
       "      <td>2</td>\n",
       "      <td>574476</td>\n",
       "      <td>177625</td>\n",
       "      <td>7401</td>\n",
       "      <td>1167791</td>\n",
       "      <td>15045</td>\n",
       "      <td>17442</td>\n",
       "      <td>1353820</td>\n",
       "    </tr>\n",
       "    <tr>\n",
       "      <th>4</th>\n",
       "      <td>3</td>\n",
       "      <td>2</td>\n",
       "      <td>0</td>\n",
       "      <td>57</td>\n",
       "      <td>0</td>\n",
       "      <td>9</td>\n",
       "      <td>1</td>\n",
       "      <td>0</td>\n",
       "      <td>2</td>\n",
       "      <td>562396</td>\n",
       "      <td>173890</td>\n",
       "      <td>7245</td>\n",
       "      <td>1109937</td>\n",
       "      <td>14299</td>\n",
       "      <td>16577</td>\n",
       "      <td>1286750</td>\n",
       "    </tr>\n",
       "  </tbody>\n",
       "</table>\n",
       "</div>"
      ],
      "text/plain": [
       "   company  state  gender  age  marital  premium  benefit  inflation  \\\n",
       "0        3      2       0   47        0        9        1          0   \n",
       "1        3      2       0   48        0        9        1          0   \n",
       "2        3      2       0   55        0        9        1          0   \n",
       "3        3      2       0   56        0        9        1          0   \n",
       "4        3      2       0   57        0        9        1          0   \n",
       "\n",
       "   schedule  total_ltc  face_amount  monthly_ltc  total_ltc_80  \\\n",
       "0         2     618357       191193         7966       1640091   \n",
       "1         2     627106       193898         8079       1614850   \n",
       "2         2     586555       181360         7557       1228117   \n",
       "3         2     574476       177625         7401       1167791   \n",
       "4         2     562396       173890         7245       1109937   \n",
       "\n",
       "   monthly_ltc_80  monthly_ltc_85  total_ltc_85  \n",
       "0           21129           24495       1901357  \n",
       "1           20804           24118       1872096  \n",
       "2           15822           18342       1423756  \n",
       "3           15045           17442       1353820  \n",
       "4           14299           16577       1286750  "
      ]
     },
     "execution_count": 15,
     "metadata": {},
     "output_type": "execute_result"
    }
   ],
   "source": [
    "from sklearn.preprocessing import LabelEncoder\n",
    "le = LabelEncoder()\n",
    "\n",
    "encoded_df = df.copy()\n",
    "\n",
    "for item in categories[:-1]:\n",
    "    encoded_df[item] = le.fit_transform(df[item])\n",
    "\n",
    "encoded_df.head()"
   ]
  },
  {
   "cell_type": "markdown",
   "metadata": {},
   "source": [
    "I've left `age` as it is, since it's already represented numerically.\n",
    "\n",
    "Now, we've finished cleaning up the training and test datasets, and we've created a numerical dataset to use for statistical analysis."
   ]
  },
  {
   "cell_type": "markdown",
   "metadata": {},
   "source": [
    "### Step 2.3: Discover.\n",
    "\n",
    "In this section, I'll perform **exploratory data analysis** to get a better understanding of the data and how it will be used to create a machine learning algorithm.\n",
    "\n",
    "To start, let's take another look at the dataset:"
   ]
  },
  {
   "cell_type": "code",
   "execution_count": 16,
   "metadata": {},
   "outputs": [
    {
     "data": {
      "text/html": [
       "<div>\n",
       "<style scoped>\n",
       "    .dataframe tbody tr th:only-of-type {\n",
       "        vertical-align: middle;\n",
       "    }\n",
       "\n",
       "    .dataframe tbody tr th {\n",
       "        vertical-align: top;\n",
       "    }\n",
       "\n",
       "    .dataframe thead th {\n",
       "        text-align: right;\n",
       "    }\n",
       "</style>\n",
       "<table border=\"1\" class=\"dataframe\">\n",
       "  <thead>\n",
       "    <tr style=\"text-align: right;\">\n",
       "      <th></th>\n",
       "      <th>company</th>\n",
       "      <th>state</th>\n",
       "      <th>gender</th>\n",
       "      <th>age</th>\n",
       "      <th>marital</th>\n",
       "      <th>premium</th>\n",
       "      <th>benefit</th>\n",
       "      <th>inflation</th>\n",
       "      <th>schedule</th>\n",
       "      <th>total_ltc</th>\n",
       "      <th>face_amount</th>\n",
       "      <th>monthly_ltc</th>\n",
       "      <th>total_ltc_80</th>\n",
       "      <th>monthly_ltc_80</th>\n",
       "      <th>monthly_ltc_85</th>\n",
       "      <th>total_ltc_85</th>\n",
       "    </tr>\n",
       "  </thead>\n",
       "  <tbody>\n",
       "    <tr>\n",
       "      <th>11995</th>\n",
       "      <td>Lincoln MoneyGuard III</td>\n",
       "      <td>TN</td>\n",
       "      <td>Female</td>\n",
       "      <td>44</td>\n",
       "      <td>Married</td>\n",
       "      <td>60000</td>\n",
       "      <td>6 Years</td>\n",
       "      <td>3% Compound</td>\n",
       "      <td>10 Years</td>\n",
       "      <td>199312</td>\n",
       "      <td>66762</td>\n",
       "      <td>2568</td>\n",
       "      <td>577661</td>\n",
       "      <td>7442</td>\n",
       "      <td>8628</td>\n",
       "      <td>669682</td>\n",
       "    </tr>\n",
       "    <tr>\n",
       "      <th>11996</th>\n",
       "      <td>Lincoln MoneyGuard III</td>\n",
       "      <td>TN</td>\n",
       "      <td>Female</td>\n",
       "      <td>43</td>\n",
       "      <td>Married</td>\n",
       "      <td>60000</td>\n",
       "      <td>6 Years</td>\n",
       "      <td>3% Compound</td>\n",
       "      <td>10 Years</td>\n",
       "      <td>202834</td>\n",
       "      <td>67941</td>\n",
       "      <td>2613</td>\n",
       "      <td>605504</td>\n",
       "      <td>7801</td>\n",
       "      <td>9044</td>\n",
       "      <td>701961</td>\n",
       "    </tr>\n",
       "    <tr>\n",
       "      <th>11997</th>\n",
       "      <td>Lincoln MoneyGuard III</td>\n",
       "      <td>TN</td>\n",
       "      <td>Female</td>\n",
       "      <td>42</td>\n",
       "      <td>Married</td>\n",
       "      <td>60000</td>\n",
       "      <td>6 Years</td>\n",
       "      <td>3% Compound</td>\n",
       "      <td>10 Years</td>\n",
       "      <td>206477</td>\n",
       "      <td>69162</td>\n",
       "      <td>2660</td>\n",
       "      <td>634873</td>\n",
       "      <td>8179</td>\n",
       "      <td>9482</td>\n",
       "      <td>736008</td>\n",
       "    </tr>\n",
       "    <tr>\n",
       "      <th>11998</th>\n",
       "      <td>Lincoln MoneyGuard III</td>\n",
       "      <td>TN</td>\n",
       "      <td>Female</td>\n",
       "      <td>41</td>\n",
       "      <td>Married</td>\n",
       "      <td>60000</td>\n",
       "      <td>6 Years</td>\n",
       "      <td>3% Compound</td>\n",
       "      <td>10 Years</td>\n",
       "      <td>208983</td>\n",
       "      <td>70001</td>\n",
       "      <td>2692</td>\n",
       "      <td>661855</td>\n",
       "      <td>8527</td>\n",
       "      <td>9885</td>\n",
       "      <td>767289</td>\n",
       "    </tr>\n",
       "    <tr>\n",
       "      <th>11999</th>\n",
       "      <td>Lincoln MoneyGuard III</td>\n",
       "      <td>TN</td>\n",
       "      <td>Female</td>\n",
       "      <td>40</td>\n",
       "      <td>Married</td>\n",
       "      <td>60000</td>\n",
       "      <td>6 Years</td>\n",
       "      <td>3% Compound</td>\n",
       "      <td>10 Years</td>\n",
       "      <td>211549</td>\n",
       "      <td>70861</td>\n",
       "      <td>2725</td>\n",
       "      <td>690080</td>\n",
       "      <td>8890</td>\n",
       "      <td>10306</td>\n",
       "      <td>800010</td>\n",
       "    </tr>\n",
       "  </tbody>\n",
       "</table>\n",
       "</div>"
      ],
      "text/plain": [
       "                      company state  gender  age  marital  premium  benefit  \\\n",
       "11995  Lincoln MoneyGuard III    TN  Female   44  Married    60000  6 Years   \n",
       "11996  Lincoln MoneyGuard III    TN  Female   43  Married    60000  6 Years   \n",
       "11997  Lincoln MoneyGuard III    TN  Female   42  Married    60000  6 Years   \n",
       "11998  Lincoln MoneyGuard III    TN  Female   41  Married    60000  6 Years   \n",
       "11999  Lincoln MoneyGuard III    TN  Female   40  Married    60000  6 Years   \n",
       "\n",
       "         inflation  schedule  total_ltc  face_amount  monthly_ltc  \\\n",
       "11995  3% Compound  10 Years     199312        66762         2568   \n",
       "11996  3% Compound  10 Years     202834        67941         2613   \n",
       "11997  3% Compound  10 Years     206477        69162         2660   \n",
       "11998  3% Compound  10 Years     208983        70001         2692   \n",
       "11999  3% Compound  10 Years     211549        70861         2725   \n",
       "\n",
       "       total_ltc_80  monthly_ltc_80  monthly_ltc_85  total_ltc_85  \n",
       "11995        577661            7442            8628        669682  \n",
       "11996        605504            7801            9044        701961  \n",
       "11997        634873            8179            9482        736008  \n",
       "11998        661855            8527            9885        767289  \n",
       "11999        690080            8890           10306        800010  "
      ]
     },
     "execution_count": 16,
     "metadata": {},
     "output_type": "execute_result"
    }
   ],
   "source": [
    "df.tail()"
   ]
  },
  {
   "cell_type": "code",
   "execution_count": 17,
   "metadata": {},
   "outputs": [
    {
     "data": {
      "text/plain": [
       "(24000, 16)"
      ]
     },
     "execution_count": 17,
     "metadata": {},
     "output_type": "execute_result"
    }
   ],
   "source": [
    "df.shape"
   ]
  },
  {
   "cell_type": "markdown",
   "metadata": {},
   "source": [
    "We still have 24,000 observations, but now only 16 columns. We still have not chosen our response column. Let's take a closer look at all our columns so we can move forward. We can use `encoded_df` to view a histogram of all the columns in the dataset."
   ]
  },
  {
   "cell_type": "code",
   "execution_count": 18,
   "metadata": {},
   "outputs": [
    {
     "data": {
      "image/png": "[encoded data removed]",
      "text/plain": [
       "<Figure size 1440x720 with 16 Axes>"
      ]
     },
     "metadata": {
      "needs_background": "light"
     },
     "output_type": "display_data"
    }
   ],
   "source": [
    "encoded_df.hist(figsize=(20,10), layout=(4,4), bins='auto')\n",
    "plt.tight_layout()\n",
    "plt.show()"
   ]
  },
  {
   "cell_type": "markdown",
   "metadata": {},
   "source": [
    "We can confirm that the dataset contains mostly categorical variables, and that `premium` is indeed categorical and not numeric. We can also see that `face_amount`, `monthly_ltc`, `monthly_ltc_80`, `monthly_ltc_85`, `total_ltc`, `total_ltc_80` and `total_ltc_85` all show remarkably similar distributions. This suggests that these features may be highly correlated with each other and that one of these could be the response. What's more, they're not normally distributed but are instead skewed to the right, which could have an impact on the final model, depending on the algorithm we employ. We may want to **employ some log transformation on the response** in order to bolster model performance.\n",
    "\n",
    "Let's check to see if these columns are, indeed, correlated."
   ]
  },
  {
   "cell_type": "code",
   "execution_count": 19,
   "metadata": {},
   "outputs": [
    {
     "data": {
      "image/png": "[encoded data removed]",
      "text/plain": [
       "<Figure size 1008x576 with 2 Axes>"
      ]
     },
     "metadata": {
      "needs_background": "light"
     },
     "output_type": "display_data"
    }
   ],
   "source": [
    "plt.figure(figsize=(14,8))\n",
    "mask = np.triu(np.ones_like(encoded_df.corr(), dtype=bool))\n",
    "sns.heatmap(round(encoded_df.corr(method='spearman'), 3), mask=mask, annot=True, linewidths=0.5)\n",
    "plt.show()"
   ]
  },
  {
   "cell_type": "markdown",
   "metadata": {},
   "source": [
    "It appears that those columns are, indeed, highly correlated with one another. We definitely want to remove these from the dataset. From what I know of the company (and what we can see on the graph) it appears that `total_ltc` alone would be more than sufficient as a response variable. The other features are probably variations on this that are used when generating insurance quotes."
   ]
  },
  {
   "cell_type": "markdown",
   "metadata": {},
   "source": [
    "For this dataset, I'm not concerned about outliers, as they tend [not to apply to categorical data](https://medium.com/owl-analytics/categorical-outliers-dont-exist-8f4e82070cb2). We've also confirmed that there are no missing values up until this point; however, due to the nature of the **imbalanced dataset** we have at this time, the final processed training set *will* indeed have several missing values. It may be necessary to use a sparse matrix, dimensionality reduction, or another solution to deal with this.\n",
    "\n",
    "So far, the data are right in line with what the desktop application produces. Each row represents one unique combination, and so our visuals come to look like explicit observations on the graph, with very little overlap. For instance:"
   ]
  },
  {
   "cell_type": "code",
   "execution_count": 20,
   "metadata": {},
   "outputs": [
    {
     "data": {
      "text/plain": [
       "<matplotlib.collections.PathCollection at 0x7f2dba2eb310>"
      ]
     },
     "execution_count": 20,
     "metadata": {},
     "output_type": "execute_result"
    },
    {
     "data": {
      "image/png": "[encoded data removed]",
      "text/plain": [
       "<Figure size 432x288 with 1 Axes>"
      ]
     },
     "metadata": {
      "needs_background": "light"
     },
     "output_type": "display_data"
    }
   ],
   "source": [
    "plt.scatter(df['age'], df['total_ltc'])"
   ]
  },
  {
   "cell_type": "markdown",
   "metadata": {},
   "source": [
    "Other scatter plots show similar results, with explicit dots to denote each combination (or observation) and very little overlap."
   ]
  },
  {
   "cell_type": "markdown",
   "metadata": {},
   "source": [
    "### Step 2.4: Dissect.\n",
    "\n",
    "In the previous section, I've identified the following necessary transformations for both the training and test sets:\n",
    "\n",
    "1. Removal of correlated response columns\n",
    "2. Log transformation of the response\n",
    "3. Include all possible predictors and get dummies\n",
    "4. Check for null values and perform dimensionality reduction\n",
    "\n",
    "Let's take them one at a time."
   ]
  },
  {
   "cell_type": "markdown",
   "metadata": {},
   "source": [
    "#### 1. Removal of correlated response columns\n",
    "\n",
    "We'll drop all other possible response columns from the datasets."
   ]
  },
  {
   "cell_type": "code",
   "execution_count": 21,
   "metadata": {},
   "outputs": [],
   "source": [
    "cols_to_drop = ['face_amount', 'monthly_ltc', 'total_ltc_80', 'total_ltc_85', 'monthly_ltc_80', 'monthly_ltc_85']\n",
    "\n",
    "df = df.drop(columns=cols_to_drop, errors='ignore')\n",
    "encoded_df = encoded_df.drop(columns=cols_to_drop, errors='ignore')\n",
    "test_data1 = test_data1.drop(columns=cols_to_drop, errors='ignore')\n",
    "test_data2 = test_data2.drop(columns=cols_to_drop, errors='ignore')"
   ]
  },
  {
   "cell_type": "markdown",
   "metadata": {},
   "source": [
    "We can check to see that correlation has improved:"
   ]
  },
  {
   "cell_type": "code",
   "execution_count": 22,
   "metadata": {},
   "outputs": [
    {
     "data": {
      "image/png": "[encoded data removed]",
      "text/plain": [
       "<Figure size 1008x576 with 2 Axes>"
      ]
     },
     "metadata": {
      "needs_background": "light"
     },
     "output_type": "display_data"
    }
   ],
   "source": [
    "plt.figure(figsize=(14,8))\n",
    "mask = np.triu(np.ones_like(encoded_df.corr(), dtype=bool))\n",
    "sns.heatmap(round(encoded_df.corr(method='spearman'), 3), mask=mask, annot=True, linewidths=0.5)\n",
    "plt.show()"
   ]
  },
  {
   "cell_type": "markdown",
   "metadata": {},
   "source": [
    "#### 2. Get dummies\n",
    "\n",
    "Next, I'll create a dummy dataframe for modeling."
   ]
  },
  {
   "cell_type": "code",
   "execution_count": 23,
   "metadata": {},
   "outputs": [],
   "source": [
    "dummy_df = df.copy()\n",
    "dummy_df = pd.get_dummies(dummy_df, columns=categories)"
   ]
  },
  {
   "cell_type": "code",
   "execution_count": 24,
   "metadata": {},
   "outputs": [
    {
     "data": {
      "text/plain": [
       "(24000, 76)"
      ]
     },
     "execution_count": 24,
     "metadata": {},
     "output_type": "execute_result"
    }
   ],
   "source": [
    "dummy_df.shape"
   ]
  },
  {
   "cell_type": "markdown",
   "metadata": {},
   "source": [
    "I chose to `.get_dummies()` on all the columns, including `age` and `premium`, because those are also categories in the context of this problem. However, I'd like to compare the automated solution as well, so I'll also create a dummy dataframe that retains `age` and `premium` as integer columns."
   ]
  },
  {
   "cell_type": "code",
   "execution_count": 25,
   "metadata": {},
   "outputs": [],
   "source": [
    "auto_dummy_df = df.copy()\n",
    "auto_dummy_df = pd.get_dummies(auto_dummy_df)"
   ]
  },
  {
   "cell_type": "code",
   "execution_count": 26,
   "metadata": {},
   "outputs": [
    {
     "data": {
      "text/plain": [
       "(24000, 31)"
      ]
     },
     "execution_count": 26,
     "metadata": {},
     "output_type": "execute_result"
    }
   ],
   "source": [
    "auto_dummy_df.shape"
   ]
  },
  {
   "cell_type": "markdown",
   "metadata": {},
   "source": [
    "- Perform any necessary transformations before building models.\n",
    "  - encoding, imputation\n",
    "  - dimensionality reduction\n",
    "- Explain why certain transformations were not done.\n",
    "- Explain if the data set needs no transformation.\n",
    "\n",
    "6. Is there any missing data?\n",
    "  - check for NULL values\n",
    "  - use the [missingno](https://github.com/ResidentMario/missingno) package to visualize\n",
    "  - do you need to remove these observations?\n",
    "  - can you impute the missing data? should you?\n",
    "  - what affect will this have on your model(s)?\n",
    "\n",
    "\n",
    "  - what can you see with this data? what CAN'T you see?\n",
    "  - can this data help you achieve the objectives outlined in Part 1?\n",
    "\n",
    "\n",
    "\n",
    "### Step 2.5: Divide.\n",
    "\n",
    "Split the data for modeling.\n",
    "\n",
    "- Split the data into train/validation/test sets."
   ]
  },
  {
   "cell_type": "code",
   "execution_count": 27,
   "metadata": {},
   "outputs": [
    {
     "data": {
      "text/html": [
       "<div>\n",
       "<style scoped>\n",
       "    .dataframe tbody tr th:only-of-type {\n",
       "        vertical-align: middle;\n",
       "    }\n",
       "\n",
       "    .dataframe tbody tr th {\n",
       "        vertical-align: top;\n",
       "    }\n",
       "\n",
       "    .dataframe thead th {\n",
       "        text-align: right;\n",
       "    }\n",
       "</style>\n",
       "<table border=\"1\" class=\"dataframe\">\n",
       "  <thead>\n",
       "    <tr style=\"text-align: right;\">\n",
       "      <th></th>\n",
       "      <th>total_ltc</th>\n",
       "      <th>company_Lincoln MoneyGuard III</th>\n",
       "      <th>company_Nationwide CareMatters II</th>\n",
       "      <th>company_Pacific Life PremierCare Choice 2019</th>\n",
       "      <th>company_Securian Financial SecureCare UL</th>\n",
       "      <th>state_NJ</th>\n",
       "      <th>state_PA</th>\n",
       "      <th>state_SD</th>\n",
       "      <th>state_TN</th>\n",
       "      <th>state_TX</th>\n",
       "      <th>...</th>\n",
       "      <th>age_66</th>\n",
       "      <th>age_67</th>\n",
       "      <th>age_68</th>\n",
       "      <th>age_69</th>\n",
       "      <th>age_70</th>\n",
       "      <th>age_71</th>\n",
       "      <th>age_72</th>\n",
       "      <th>age_73</th>\n",
       "      <th>age_74</th>\n",
       "      <th>age_75</th>\n",
       "    </tr>\n",
       "  </thead>\n",
       "  <tbody>\n",
       "    <tr>\n",
       "      <th>0</th>\n",
       "      <td>618357</td>\n",
       "      <td>0</td>\n",
       "      <td>0</td>\n",
       "      <td>0</td>\n",
       "      <td>1</td>\n",
       "      <td>0</td>\n",
       "      <td>0</td>\n",
       "      <td>1</td>\n",
       "      <td>0</td>\n",
       "      <td>0</td>\n",
       "      <td>...</td>\n",
       "      <td>0</td>\n",
       "      <td>0</td>\n",
       "      <td>0</td>\n",
       "      <td>0</td>\n",
       "      <td>0</td>\n",
       "      <td>0</td>\n",
       "      <td>0</td>\n",
       "      <td>0</td>\n",
       "      <td>0</td>\n",
       "      <td>0</td>\n",
       "    </tr>\n",
       "    <tr>\n",
       "      <th>1</th>\n",
       "      <td>627106</td>\n",
       "      <td>0</td>\n",
       "      <td>0</td>\n",
       "      <td>0</td>\n",
       "      <td>1</td>\n",
       "      <td>0</td>\n",
       "      <td>0</td>\n",
       "      <td>1</td>\n",
       "      <td>0</td>\n",
       "      <td>0</td>\n",
       "      <td>...</td>\n",
       "      <td>0</td>\n",
       "      <td>0</td>\n",
       "      <td>0</td>\n",
       "      <td>0</td>\n",
       "      <td>0</td>\n",
       "      <td>0</td>\n",
       "      <td>0</td>\n",
       "      <td>0</td>\n",
       "      <td>0</td>\n",
       "      <td>0</td>\n",
       "    </tr>\n",
       "    <tr>\n",
       "      <th>2</th>\n",
       "      <td>586555</td>\n",
       "      <td>0</td>\n",
       "      <td>0</td>\n",
       "      <td>0</td>\n",
       "      <td>1</td>\n",
       "      <td>0</td>\n",
       "      <td>0</td>\n",
       "      <td>1</td>\n",
       "      <td>0</td>\n",
       "      <td>0</td>\n",
       "      <td>...</td>\n",
       "      <td>0</td>\n",
       "      <td>0</td>\n",
       "      <td>0</td>\n",
       "      <td>0</td>\n",
       "      <td>0</td>\n",
       "      <td>0</td>\n",
       "      <td>0</td>\n",
       "      <td>0</td>\n",
       "      <td>0</td>\n",
       "      <td>0</td>\n",
       "    </tr>\n",
       "    <tr>\n",
       "      <th>3</th>\n",
       "      <td>574476</td>\n",
       "      <td>0</td>\n",
       "      <td>0</td>\n",
       "      <td>0</td>\n",
       "      <td>1</td>\n",
       "      <td>0</td>\n",
       "      <td>0</td>\n",
       "      <td>1</td>\n",
       "      <td>0</td>\n",
       "      <td>0</td>\n",
       "      <td>...</td>\n",
       "      <td>0</td>\n",
       "      <td>0</td>\n",
       "      <td>0</td>\n",
       "      <td>0</td>\n",
       "      <td>0</td>\n",
       "      <td>0</td>\n",
       "      <td>0</td>\n",
       "      <td>0</td>\n",
       "      <td>0</td>\n",
       "      <td>0</td>\n",
       "    </tr>\n",
       "    <tr>\n",
       "      <th>4</th>\n",
       "      <td>562396</td>\n",
       "      <td>0</td>\n",
       "      <td>0</td>\n",
       "      <td>0</td>\n",
       "      <td>1</td>\n",
       "      <td>0</td>\n",
       "      <td>0</td>\n",
       "      <td>1</td>\n",
       "      <td>0</td>\n",
       "      <td>0</td>\n",
       "      <td>...</td>\n",
       "      <td>0</td>\n",
       "      <td>0</td>\n",
       "      <td>0</td>\n",
       "      <td>0</td>\n",
       "      <td>0</td>\n",
       "      <td>0</td>\n",
       "      <td>0</td>\n",
       "      <td>0</td>\n",
       "      <td>0</td>\n",
       "      <td>0</td>\n",
       "    </tr>\n",
       "  </tbody>\n",
       "</table>\n",
       "<p>5 rows × 76 columns</p>\n",
       "</div>"
      ],
      "text/plain": [
       "   total_ltc  company_Lincoln MoneyGuard III  \\\n",
       "0     618357                               0   \n",
       "1     627106                               0   \n",
       "2     586555                               0   \n",
       "3     574476                               0   \n",
       "4     562396                               0   \n",
       "\n",
       "   company_Nationwide CareMatters II  \\\n",
       "0                                  0   \n",
       "1                                  0   \n",
       "2                                  0   \n",
       "3                                  0   \n",
       "4                                  0   \n",
       "\n",
       "   company_Pacific Life PremierCare Choice 2019  \\\n",
       "0                                             0   \n",
       "1                                             0   \n",
       "2                                             0   \n",
       "3                                             0   \n",
       "4                                             0   \n",
       "\n",
       "   company_Securian Financial SecureCare UL  state_NJ  state_PA  state_SD  \\\n",
       "0                                         1         0         0         1   \n",
       "1                                         1         0         0         1   \n",
       "2                                         1         0         0         1   \n",
       "3                                         1         0         0         1   \n",
       "4                                         1         0         0         1   \n",
       "\n",
       "   state_TN  state_TX  ...  age_66  age_67  age_68  age_69  age_70  age_71  \\\n",
       "0         0         0  ...       0       0       0       0       0       0   \n",
       "1         0         0  ...       0       0       0       0       0       0   \n",
       "2         0         0  ...       0       0       0       0       0       0   \n",
       "3         0         0  ...       0       0       0       0       0       0   \n",
       "4         0         0  ...       0       0       0       0       0       0   \n",
       "\n",
       "   age_72  age_73  age_74  age_75  \n",
       "0       0       0       0       0  \n",
       "1       0       0       0       0  \n",
       "2       0       0       0       0  \n",
       "3       0       0       0       0  \n",
       "4       0       0       0       0  \n",
       "\n",
       "[5 rows x 76 columns]"
      ]
     },
     "execution_count": 27,
     "metadata": {},
     "output_type": "execute_result"
    }
   ],
   "source": [
    "dummy_df.head()"
   ]
  },
  {
   "cell_type": "markdown",
   "metadata": {},
   "source": [
    "# Stage 3: Develop\n",
    "\n",
    "*Modeling and prediction.*\n",
    "\n",
    "### Step 3.1: Deliberate.\n",
    "\n",
    "Train on a few different models.\n",
    "\n",
    "- Identify candidate models.\n",
    "  - what kind of model(s) do you need to achieve the Part 1 goal?\n",
    "  - what kind of model(s) work best with the data you have on hand?\n",
    "  - will you build your own models or use available ones?\n",
    "  - how will you measure the quality of your chosen model(s)?\n",
    "\n",
    "* df with all dummy predictors\n",
    "* df with available dummy predictors\n",
    "* encoded_df with factorized predictors\n",
    "\n",
    "- Build preliminary models on the training set.\n",
    "- Store preliminary measures of model quality.\n",
    "  - use a cross-model validation measure, if possible"
   ]
  },
  {
   "cell_type": "code",
   "execution_count": 28,
   "metadata": {},
   "outputs": [
    {
     "data": {
      "text/plain": [
       "(0.8740980350940095, 0.8727725652220346)"
      ]
     },
     "execution_count": 28,
     "metadata": {},
     "output_type": "execute_result"
    }
   ],
   "source": [
    "# dummy_df: 76 features\n",
    "init_frame = dummy_df.copy()\n",
    "\n",
    "X1 = init_frame.drop('total_ltc', 1)\n",
    "y1 = init_frame['total_ltc']\n",
    "\n",
    "X1_train, X1_test, y1_train, y1_test = train_test_split(X1, y1, test_size=0.30, random_state=0)\n",
    "\n",
    "dummy_regressor = LinearRegression()\n",
    "dummy_regressor.fit(X1_train, y1_train)\n",
    "\n",
    "y1_hat = dummy_regressor.predict(X1_test)\n",
    "\n",
    "r2 = metrics.r2_score(y1_test, y1_hat)\n",
    "adj_r2 = (1 - (1 - r2) * ((X1_test.shape[0] - 1) / \n",
    "          (X1_test.shape[0] - X1_test.shape[1] - 1)))\n",
    "r2, adj_r2"
   ]
  },
  {
   "cell_type": "code",
   "execution_count": 29,
   "metadata": {},
   "outputs": [
    {
     "data": {
      "text/plain": [
       "(0.8714487578559891, 0.8709108115225646)"
      ]
     },
     "execution_count": 29,
     "metadata": {},
     "output_type": "execute_result"
    }
   ],
   "source": [
    "# auto_dummy_df: 31 features\n",
    "init_frame = auto_dummy_df.copy()\n",
    "\n",
    "X2 = init_frame.drop('total_ltc', 1)\n",
    "y2 = init_frame['total_ltc']\n",
    "\n",
    "X2_train, X2_test, y2_train, y2_test = train_test_split(X2, y2, test_size=0.30, random_state=0)\n",
    "\n",
    "auto_dummy_regressor = LinearRegression()\n",
    "auto_dummy_regressor.fit(X2_train, y2_train)\n",
    "\n",
    "y2_hat = auto_dummy_regressor.predict(X2_test)\n",
    "\n",
    "r2 = metrics.r2_score(y2_test, y2_hat)\n",
    "adj_r2 = (1 - (1 - r2) * ((X2_test.shape[0] - 1) / \n",
    "          (X2_test.shape[0] - X2_test.shape[1] - 1)))\n",
    "r2, adj_r2"
   ]
  },
  {
   "cell_type": "code",
   "execution_count": 30,
   "metadata": {},
   "outputs": [
    {
     "data": {
      "text/plain": [
       "(0.8388371103713622, 0.8386353765734961)"
      ]
     },
     "execution_count": 30,
     "metadata": {},
     "output_type": "execute_result"
    }
   ],
   "source": [
    "# encoded_df: 10 features\n",
    "init_frame = encoded_df.copy()\n",
    "\n",
    "X3 = init_frame.drop('total_ltc', 1)\n",
    "y3 = init_frame['total_ltc']\n",
    "\n",
    "X3_train, X3_test, y3_train, y3_test = train_test_split(X3, y3, test_size=0.30, random_state=0)\n",
    "\n",
    "encoded_regressor = LinearRegression()\n",
    "encoded_regressor.fit(X3_train, y3_train)\n",
    "\n",
    "y3_hat = encoded_regressor.predict(X3_test)\n",
    "\n",
    "r2 = metrics.r2_score(y3_test, y3_hat)\n",
    "adj_r2 = (1 - (1 - r2) * ((X3_test.shape[0] - 1) / \n",
    "          (X3_test.shape[0] - X3_test.shape[1] - 1)))\n",
    "r2, adj_r2"
   ]
  },
  {
   "cell_type": "markdown",
   "metadata": {},
   "source": [
    "### Step 3.2: Decide.\n",
    "\n",
    "Validate to choose the best model.\n",
    "\n",
    "- Identify final model(s).\n",
    "  - how did the model(s) perform on the training set?\n",
    "- Check preliminary models on the validation set.\n",
    "- Store intermediary measures of model quality.\n",
    "  - may need to use cross-validation on multiple models"
   ]
  },
  {
   "cell_type": "code",
   "execution_count": 31,
   "metadata": {},
   "outputs": [
    {
     "data": {
      "text/plain": [
       "(0.7693530306578369, 0.7506316857437003)"
      ]
     },
     "execution_count": 31,
     "metadata": {},
     "output_type": "execute_result"
    }
   ],
   "source": [
    "# Run dummy_regressor on 1k dataset\n",
    "unseen_init_frame = test_data2.copy()\n",
    "unseen_init_frame = pd.get_dummies(unseen_init_frame, columns=categories)\n",
    "\n",
    "unseen_X1 = unseen_init_frame.drop('total_ltc', 1)\n",
    "unseen_y1 = unseen_init_frame['total_ltc']\n",
    "\n",
    "missing_cols = set( X1_train.columns ) - set( unseen_X1.columns )\n",
    "for c in missing_cols:\n",
    "    unseen_X1[c] = 0\n",
    "unseen_X1 = unseen_X1[X1_train.columns]\n",
    "\n",
    "y1_pred = dummy_regressor.predict(unseen_X1)\n",
    "r2 = metrics.r2_score(unseen_y1, y1_pred)\n",
    "adj_r2 = (1 - (1 - r2) * ((unseen_X1.shape[0] - 1) / \n",
    "          (unseen_X1.shape[0] - unseen_X1.shape[1] - 1)))\n",
    "r2, adj_r2"
   ]
  },
  {
   "cell_type": "code",
   "execution_count": 32,
   "metadata": {},
   "outputs": [
    {
     "data": {
      "text/plain": [
       "(-0.5665820384841203, -0.5685427986808129)"
      ]
     },
     "execution_count": 32,
     "metadata": {},
     "output_type": "execute_result"
    }
   ],
   "source": [
    "# Run auto_dummy_regressor on 1k dataset\n",
    "unseen_init_frame = test_data2.copy()\n",
    "unseen_init_frame = pd.get_dummies(dummy_df)\n",
    "\n",
    "unseen_X2 = unseen_init_frame.drop('total_ltc', 1)\n",
    "unseen_y2 = unseen_init_frame['total_ltc']\n",
    "\n",
    "missing_cols = set( X2_train.columns ) - set( unseen_X2.columns )\n",
    "for c in missing_cols:\n",
    "    unseen_X2[c] = 0\n",
    "unseen_X2 = unseen_X2[X2_train.columns]\n",
    "\n",
    "y2_pred = auto_dummy_regressor.predict(unseen_X2)\n",
    "r2 = metrics.r2_score(unseen_y2, y2_pred)\n",
    "adj_r2 = (1 - (1 - r2) * ((unseen_X2.shape[0] - 1) / \n",
    "          (unseen_X2.shape[0] - unseen_X2.shape[1] - 1)))\n",
    "r2, adj_r2"
   ]
  },
  {
   "cell_type": "code",
   "execution_count": 33,
   "metadata": {},
   "outputs": [
    {
     "data": {
      "text/plain": [
       "(-3.0627862220848305, -3.099720642285601)"
      ]
     },
     "execution_count": 33,
     "metadata": {},
     "output_type": "execute_result"
    }
   ],
   "source": [
    "# Run encoded_regressor on 1k dataset\n",
    "unseen_init_frame = test_data2.copy()\n",
    "\n",
    "from sklearn.preprocessing import LabelEncoder\n",
    "le = LabelEncoder()\n",
    "\n",
    "for item in categories:\n",
    "    unseen_init_frame[item] = le.fit_transform(test_data2[item])\n",
    "\n",
    "unseen_X3 = unseen_init_frame.drop('total_ltc', 1)\n",
    "unseen_y3 = unseen_init_frame['total_ltc']\n",
    "\n",
    "missing_cols = set( X3_train.columns ) - set( unseen_X3.columns )\n",
    "for c in missing_cols:\n",
    "    unseen_X3[c] = 0\n",
    "unseen_X3 = unseen_X3[X3_train.columns]\n",
    "\n",
    "y3_pred = encoded_regressor.predict(unseen_X3)\n",
    "r2 = metrics.r2_score(unseen_y3, y3_pred)\n",
    "adj_r2 = (1 - (1 - r2) * ((unseen_X3.shape[0] - 1) / \n",
    "          (unseen_X3.shape[0] - unseen_X3.shape[1] - 1)))\n",
    "r2, adj_r2"
   ]
  },
  {
   "cell_type": "markdown",
   "metadata": {},
   "source": [
    "\n",
    "### Step 3.3: Declare.\n",
    "\n",
    "Test to evaluate model performance.\n",
    "\n",
    "- Test chosen model(s).\n",
    "  - how well does the model perform on unseen data?\n",
    "- Check chosen models on the test set.\n",
    "- Store final measures of model quality."
   ]
  },
  {
   "cell_type": "markdown",
   "metadata": {},
   "source": [
    "# Stage 4: Deploy\n",
    "\n",
    "*Production and distribution.*\n",
    "\n",
    "### Step 4.1: Demonstrate.\n",
    "\n",
    "Demonstrate model performance.\n",
    "\n",
    "- Make predictions on unseen data.\n",
    "\n",
    "### Step 4.2: Distribute.\n",
    "\n",
    "Deploy model to production.\n",
    "\n",
    "- Make model available to other users."
   ]
  },
  {
   "cell_type": "markdown",
   "metadata": {},
   "source": [
    "## Stage 5: Discuss\n",
    "\n",
    "*Recap and reflection.*\n",
    "\n",
    "### Step 5.1: Determine.\n",
    "\n",
    "Review the final model.\n",
    "\n",
    "- What conclusion(s) did you reach?\n",
    "- How did your results align with or differ from your expectations?\n",
    "\n",
    "### Step 5.2: Discourage.\n",
    "\n",
    "Discuss challenges and obstacles.\n",
    "\n",
    "- Did you run into any major issues?\n",
    "imbalanced datasets; factors present in training but not test, and vice versa. many solutions, one would be to merge the datasets to get all possible factors and then separate them back out. after testing, the model would update itself based on the newly available factors. the goal is that over time all possible factors will have been taken into account and the model performance will significantly improve.\n",
    "- Did you run into any minor issues?\n",
    "- Were there any bugs to work through?\n",
    "- Was there anything you just couldn't solve this go round?\n",
    "\n",
    "### Step 5.3: Direct.\n",
    "\n",
    "Opportunities for future research.\n",
    "\n",
    "- What could you do differently next time?\n",
    "take a truly representative sample of the dataset; having over 1000 rows with only one value for a significant feature will lead to extremely poor model performance if that feature is nonexistent in the test set. it's extremely important to make sure the training, validation and test sets match up as far as features go. in addition, it's necessary for those datasets to be representative of the actual data, or else the model will be irrelevant to actual use.\n",
    "use a log-transformed response; the response was highly skewed to the right, which means the abnormal distribution could have negatively affected the linear regression. more analysis is needed to see whether a log transformation would help improve accuracy in predictions.\n",
    "- How could you extend this project?\n",
    "- What would you like to try next?\n",
    "\n",
    "### Step 5.4: Disseminate.\n",
    "\n",
    "Resources for more information.\n",
    "\n",
    "- How can we access resources used in this analysis?\n",
    "- Where can readers find more information?\n",
    "  - \"The following resources were of immense help to me as I completed this project:\""
   ]
  },
  {
   "cell_type": "code",
   "execution_count": null,
   "metadata": {},
   "outputs": [],
   "source": []
  }
 ],
 "metadata": {
  "kernelspec": {
   "display_name": "Python 3",
   "language": "python",
   "name": "python3"
  },
  "language_info": {
   "codemirror_mode": {
    "name": "ipython",
    "version": 3
   },
   "file_extension": ".py",
   "mimetype": "text/x-python",
   "name": "python",
   "nbconvert_exporter": "python",
   "pygments_lexer": "ipython3",
   "version": "3.7.5"
  }
 },
 "nbformat": 4,
 "nbformat_minor": 4
}
